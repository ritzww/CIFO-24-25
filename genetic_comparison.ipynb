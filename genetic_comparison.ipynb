{
 "cells": [
  {
   "cell_type": "markdown",
   "id": "4ff2fbd2",
   "metadata": {},
   "source": [
    "# Compare the results"
   ]
  },
  {
   "cell_type": "code",
   "execution_count": 37,
   "id": "5be10319",
   "metadata": {},
   "outputs": [],
   "source": [
    "import pandas as pd\n",
    "import numpy as np\n",
    "import matplotlib.pyplot as plt\n",
    "import random\n",
    "from copy import deepcopy\n",
    "from functools import partial\n",
    "import os\n",
    "from itertools import product\n",
    "import json\n",
    "\n",
    "# import functions\n",
    "from crossover import *\n",
    "from selection_algos import *\n",
    "from mutations import *\n",
    "from algorithms import *\n",
    "from problems_solutions import *\n",
    "from utils import *\n"
   ]
  },
  {
   "cell_type": "code",
   "execution_count": 38,
   "id": "65e9baf7",
   "metadata": {},
   "outputs": [],
   "source": [
    "results = pd.read_csv('ga_results.csv')"
   ]
  },
  {
   "cell_type": "code",
   "execution_count": null,
   "id": "2c7e4ecc",
   "metadata": {},
   "outputs": [],
   "source": [
    "import seaborn as sns\n",
    "\n",
    "from scipy.stats import shapiro\n",
    "from scipy import stats\n",
    "from scipy.stats import mannwhitneyu\n",
    "from scipy.stats import kruskal\n",
    "import scikit_posthocs as sp"
   ]
  },
  {
   "cell_type": "code",
   "execution_count": 39,
   "id": "639610fc",
   "metadata": {},
   "outputs": [
    {
     "data": {
      "text/html": [
       "<div>\n",
       "<style scoped>\n",
       "    .dataframe tbody tr th:only-of-type {\n",
       "        vertical-align: middle;\n",
       "    }\n",
       "\n",
       "    .dataframe tbody tr th {\n",
       "        vertical-align: top;\n",
       "    }\n",
       "\n",
       "    .dataframe thead th {\n",
       "        text-align: right;\n",
       "    }\n",
       "</style>\n",
       "<table border=\"1\" class=\"dataframe\">\n",
       "  <thead>\n",
       "    <tr style=\"text-align: right;\">\n",
       "      <th></th>\n",
       "      <th>pop_size</th>\n",
       "      <th>mutation</th>\n",
       "      <th>crossover</th>\n",
       "      <th>selection</th>\n",
       "      <th>selection_param</th>\n",
       "      <th>elitism</th>\n",
       "      <th>max_gen</th>\n",
       "      <th>xo_prob</th>\n",
       "      <th>mut_prob</th>\n",
       "      <th>avg_fitness</th>\n",
       "      <th>std_fitness</th>\n",
       "      <th>avg_conv_gen</th>\n",
       "      <th>avg_conv_time</th>\n",
       "      <th>fitness_scores</th>\n",
       "    </tr>\n",
       "  </thead>\n",
       "  <tbody>\n",
       "    <tr>\n",
       "      <th>0</th>\n",
       "      <td>10</td>\n",
       "      <td>swap_mutation</td>\n",
       "      <td>classic_order_crossover</td>\n",
       "      <td>tournament</td>\n",
       "      <td>3.0</td>\n",
       "      <td>True</td>\n",
       "      <td>500</td>\n",
       "      <td>0.8</td>\n",
       "      <td>0.1</td>\n",
       "      <td>57366.666667</td>\n",
       "      <td>3409.529130</td>\n",
       "      <td>467.100000</td>\n",
       "      <td>1.70</td>\n",
       "      <td>[51700.0, 58500.0, 53800.0, 54300.0, 61200.0, ...</td>\n",
       "    </tr>\n",
       "    <tr>\n",
       "      <th>1</th>\n",
       "      <td>10</td>\n",
       "      <td>swap_mutation</td>\n",
       "      <td>classic_order_crossover</td>\n",
       "      <td>tournament</td>\n",
       "      <td>5.0</td>\n",
       "      <td>True</td>\n",
       "      <td>500</td>\n",
       "      <td>0.8</td>\n",
       "      <td>0.1</td>\n",
       "      <td>58510.000000</td>\n",
       "      <td>3976.795192</td>\n",
       "      <td>462.066667</td>\n",
       "      <td>2.19</td>\n",
       "      <td>[61200.0, 62900.0, 57700.0, 53900.0, 57700.0, ...</td>\n",
       "    </tr>\n",
       "    <tr>\n",
       "      <th>2</th>\n",
       "      <td>10</td>\n",
       "      <td>swap_mutation</td>\n",
       "      <td>classic_order_crossover</td>\n",
       "      <td>tournament</td>\n",
       "      <td>7.0</td>\n",
       "      <td>True</td>\n",
       "      <td>500</td>\n",
       "      <td>0.8</td>\n",
       "      <td>0.1</td>\n",
       "      <td>58416.670000</td>\n",
       "      <td>4161.180000</td>\n",
       "      <td>472.070000</td>\n",
       "      <td>2.76</td>\n",
       "      <td>[52300.0, 57900.0, 61700.0, 55100.0, 59000.0, ...</td>\n",
       "    </tr>\n",
       "    <tr>\n",
       "      <th>3</th>\n",
       "      <td>10</td>\n",
       "      <td>swap_mutation</td>\n",
       "      <td>classic_order_crossover</td>\n",
       "      <td>tournament</td>\n",
       "      <td>3.0</td>\n",
       "      <td>True</td>\n",
       "      <td>500</td>\n",
       "      <td>0.8</td>\n",
       "      <td>0.2</td>\n",
       "      <td>64893.330000</td>\n",
       "      <td>2921.070000</td>\n",
       "      <td>469.070000</td>\n",
       "      <td>1.71</td>\n",
       "      <td>[59300.0, 62100.0, 68700.0, 61300.0, 63800.0, ...</td>\n",
       "    </tr>\n",
       "    <tr>\n",
       "      <th>4</th>\n",
       "      <td>10</td>\n",
       "      <td>swap_mutation</td>\n",
       "      <td>classic_order_crossover</td>\n",
       "      <td>tournament</td>\n",
       "      <td>5.0</td>\n",
       "      <td>True</td>\n",
       "      <td>500</td>\n",
       "      <td>0.8</td>\n",
       "      <td>0.2</td>\n",
       "      <td>64870.000000</td>\n",
       "      <td>3811.570000</td>\n",
       "      <td>467.570000</td>\n",
       "      <td>2.22</td>\n",
       "      <td>[54700.0, 63100.0, 63700.0, 67300.0, 63200.0, ...</td>\n",
       "    </tr>\n",
       "    <tr>\n",
       "      <th>...</th>\n",
       "      <td>...</td>\n",
       "      <td>...</td>\n",
       "      <td>...</td>\n",
       "      <td>...</td>\n",
       "      <td>...</td>\n",
       "      <td>...</td>\n",
       "      <td>...</td>\n",
       "      <td>...</td>\n",
       "      <td>...</td>\n",
       "      <td>...</td>\n",
       "      <td>...</td>\n",
       "      <td>...</td>\n",
       "      <td>...</td>\n",
       "      <td>...</td>\n",
       "    </tr>\n",
       "    <tr>\n",
       "      <th>716</th>\n",
       "      <td>10</td>\n",
       "      <td>inversion_mutation</td>\n",
       "      <td>classic_order_crossover</td>\n",
       "      <td>tournament</td>\n",
       "      <td>5.0</td>\n",
       "      <td>True</td>\n",
       "      <td>500</td>\n",
       "      <td>0.8</td>\n",
       "      <td>0.3</td>\n",
       "      <td>47770.000000</td>\n",
       "      <td>3977.870000</td>\n",
       "      <td>426.900000</td>\n",
       "      <td>2.90</td>\n",
       "      <td>[45400.0, 52400.0, 50200.0, 51700.0, 51400.0, ...</td>\n",
       "    </tr>\n",
       "    <tr>\n",
       "      <th>717</th>\n",
       "      <td>10</td>\n",
       "      <td>inversion_mutation</td>\n",
       "      <td>classic_order_crossover</td>\n",
       "      <td>tournament</td>\n",
       "      <td>7.0</td>\n",
       "      <td>True</td>\n",
       "      <td>500</td>\n",
       "      <td>0.8</td>\n",
       "      <td>0.3</td>\n",
       "      <td>47413.330000</td>\n",
       "      <td>4602.230000</td>\n",
       "      <td>439.570000</td>\n",
       "      <td>3.50</td>\n",
       "      <td>[48300.0, 42300.0, 46900.0, 45400.0, 53200.0, ...</td>\n",
       "    </tr>\n",
       "    <tr>\n",
       "      <th>718</th>\n",
       "      <td>10</td>\n",
       "      <td>inversion_mutation</td>\n",
       "      <td>classic_order_crossover</td>\n",
       "      <td>tournament</td>\n",
       "      <td>5.0</td>\n",
       "      <td>True</td>\n",
       "      <td>500</td>\n",
       "      <td>0.7</td>\n",
       "      <td>0.2</td>\n",
       "      <td>44210.000000</td>\n",
       "      <td>4386.140000</td>\n",
       "      <td>423.630000</td>\n",
       "      <td>2.86</td>\n",
       "      <td>[44700.0, 42600.0, 43000.0, 50600.0, 49500.0, ...</td>\n",
       "    </tr>\n",
       "    <tr>\n",
       "      <th>719</th>\n",
       "      <td>10</td>\n",
       "      <td>inversion_mutation</td>\n",
       "      <td>classic_order_crossover</td>\n",
       "      <td>tournament</td>\n",
       "      <td>7.0</td>\n",
       "      <td>True</td>\n",
       "      <td>500</td>\n",
       "      <td>0.7</td>\n",
       "      <td>0.2</td>\n",
       "      <td>45300.000000</td>\n",
       "      <td>4353.310000</td>\n",
       "      <td>426.630000</td>\n",
       "      <td>3.62</td>\n",
       "      <td>[47900.0, 40900.0, 39800.0, 42300.0, 51500.0, ...</td>\n",
       "    </tr>\n",
       "    <tr>\n",
       "      <th>720</th>\n",
       "      <td>10</td>\n",
       "      <td>inversion_mutation</td>\n",
       "      <td>classic_order_crossover</td>\n",
       "      <td>tournament</td>\n",
       "      <td>5.0</td>\n",
       "      <td>True</td>\n",
       "      <td>500</td>\n",
       "      <td>0.7</td>\n",
       "      <td>0.3</td>\n",
       "      <td>47583.330000</td>\n",
       "      <td>3773.950000</td>\n",
       "      <td>450.430000</td>\n",
       "      <td>3.00</td>\n",
       "      <td>[46700.0, 48700.0, 49700.0, 47900.0, 50600.0, ...</td>\n",
       "    </tr>\n",
       "  </tbody>\n",
       "</table>\n",
       "<p>721 rows × 14 columns</p>\n",
       "</div>"
      ],
      "text/plain": [
       "     pop_size            mutation                crossover   selection  \\\n",
       "0          10       swap_mutation  classic_order_crossover  tournament   \n",
       "1          10       swap_mutation  classic_order_crossover  tournament   \n",
       "2          10       swap_mutation  classic_order_crossover  tournament   \n",
       "3          10       swap_mutation  classic_order_crossover  tournament   \n",
       "4          10       swap_mutation  classic_order_crossover  tournament   \n",
       "..        ...                 ...                      ...         ...   \n",
       "716        10  inversion_mutation  classic_order_crossover  tournament   \n",
       "717        10  inversion_mutation  classic_order_crossover  tournament   \n",
       "718        10  inversion_mutation  classic_order_crossover  tournament   \n",
       "719        10  inversion_mutation  classic_order_crossover  tournament   \n",
       "720        10  inversion_mutation  classic_order_crossover  tournament   \n",
       "\n",
       "     selection_param  elitism  max_gen  xo_prob  mut_prob   avg_fitness  \\\n",
       "0                3.0     True      500      0.8       0.1  57366.666667   \n",
       "1                5.0     True      500      0.8       0.1  58510.000000   \n",
       "2                7.0     True      500      0.8       0.1  58416.670000   \n",
       "3                3.0     True      500      0.8       0.2  64893.330000   \n",
       "4                5.0     True      500      0.8       0.2  64870.000000   \n",
       "..               ...      ...      ...      ...       ...           ...   \n",
       "716              5.0     True      500      0.8       0.3  47770.000000   \n",
       "717              7.0     True      500      0.8       0.3  47413.330000   \n",
       "718              5.0     True      500      0.7       0.2  44210.000000   \n",
       "719              7.0     True      500      0.7       0.2  45300.000000   \n",
       "720              5.0     True      500      0.7       0.3  47583.330000   \n",
       "\n",
       "     std_fitness  avg_conv_gen  avg_conv_time  \\\n",
       "0    3409.529130    467.100000           1.70   \n",
       "1    3976.795192    462.066667           2.19   \n",
       "2    4161.180000    472.070000           2.76   \n",
       "3    2921.070000    469.070000           1.71   \n",
       "4    3811.570000    467.570000           2.22   \n",
       "..           ...           ...            ...   \n",
       "716  3977.870000    426.900000           2.90   \n",
       "717  4602.230000    439.570000           3.50   \n",
       "718  4386.140000    423.630000           2.86   \n",
       "719  4353.310000    426.630000           3.62   \n",
       "720  3773.950000    450.430000           3.00   \n",
       "\n",
       "                                        fitness_scores  \n",
       "0    [51700.0, 58500.0, 53800.0, 54300.0, 61200.0, ...  \n",
       "1    [61200.0, 62900.0, 57700.0, 53900.0, 57700.0, ...  \n",
       "2    [52300.0, 57900.0, 61700.0, 55100.0, 59000.0, ...  \n",
       "3    [59300.0, 62100.0, 68700.0, 61300.0, 63800.0, ...  \n",
       "4    [54700.0, 63100.0, 63700.0, 67300.0, 63200.0, ...  \n",
       "..                                                 ...  \n",
       "716  [45400.0, 52400.0, 50200.0, 51700.0, 51400.0, ...  \n",
       "717  [48300.0, 42300.0, 46900.0, 45400.0, 53200.0, ...  \n",
       "718  [44700.0, 42600.0, 43000.0, 50600.0, 49500.0, ...  \n",
       "719  [47900.0, 40900.0, 39800.0, 42300.0, 51500.0, ...  \n",
       "720  [46700.0, 48700.0, 49700.0, 47900.0, 50600.0, ...  \n",
       "\n",
       "[721 rows x 14 columns]"
      ]
     },
     "execution_count": 39,
     "metadata": {},
     "output_type": "execute_result"
    }
   ],
   "source": [
    "results"
   ]
  },
  {
   "cell_type": "code",
   "execution_count": 40,
   "id": "6db69536",
   "metadata": {},
   "outputs": [
    {
     "data": {
      "text/plain": [
       "[61200.0,\n",
       " 62900.0,\n",
       " 57700.0,\n",
       " 53900.0,\n",
       " 57700.0,\n",
       " 60100.0,\n",
       " 55700.0,\n",
       " 56600.0,\n",
       " 49300.0,\n",
       " 58000.0,\n",
       " 61600.0,\n",
       " 61600.0,\n",
       " 62300.0,\n",
       " 64400.0,\n",
       " 59400.0,\n",
       " 61400.0,\n",
       " 57400.0,\n",
       " 57800.0,\n",
       " 59900.0,\n",
       " 62900.0,\n",
       " 53000.0,\n",
       " 67000.0,\n",
       " 55400.0,\n",
       " 52600.0,\n",
       " 61400.0,\n",
       " 62300.0,\n",
       " 57300.0,\n",
       " 55900.0,\n",
       " 51800.0,\n",
       " 56800.0]"
      ]
     },
     "execution_count": 40,
     "metadata": {},
     "output_type": "execute_result"
    }
   ],
   "source": [
    "fitness_list = json.loads(results.loc[results.index[1], 'fitness_scores'])\n",
    "fitness_list"
   ]
  },
  {
   "cell_type": "markdown",
   "id": "72aba653",
   "metadata": {},
   "source": [
    "# 1.Get top N fitness values"
   ]
  },
  {
   "cell_type": "code",
   "execution_count": 147,
   "id": "2edb7c06",
   "metadata": {},
   "outputs": [],
   "source": [
    "n = 3"
   ]
  },
  {
   "cell_type": "code",
   "execution_count": 148,
   "id": "b6ee0c41",
   "metadata": {},
   "outputs": [
    {
     "data": {
      "text/html": [
       "<div>\n",
       "<style scoped>\n",
       "    .dataframe tbody tr th:only-of-type {\n",
       "        vertical-align: middle;\n",
       "    }\n",
       "\n",
       "    .dataframe tbody tr th {\n",
       "        vertical-align: top;\n",
       "    }\n",
       "\n",
       "    .dataframe thead th {\n",
       "        text-align: right;\n",
       "    }\n",
       "</style>\n",
       "<table border=\"1\" class=\"dataframe\">\n",
       "  <thead>\n",
       "    <tr style=\"text-align: right;\">\n",
       "      <th></th>\n",
       "      <th>pop_size</th>\n",
       "      <th>mutation</th>\n",
       "      <th>crossover</th>\n",
       "      <th>selection</th>\n",
       "      <th>selection_param</th>\n",
       "      <th>elitism</th>\n",
       "      <th>max_gen</th>\n",
       "      <th>xo_prob</th>\n",
       "      <th>mut_prob</th>\n",
       "      <th>avg_fitness</th>\n",
       "      <th>std_fitness</th>\n",
       "      <th>avg_conv_gen</th>\n",
       "      <th>avg_conv_time</th>\n",
       "      <th>fitness_scores</th>\n",
       "    </tr>\n",
       "  </thead>\n",
       "  <tbody>\n",
       "    <tr>\n",
       "      <th>682</th>\n",
       "      <td>50</td>\n",
       "      <td>swap_mutation</td>\n",
       "      <td>classic_order_crossover</td>\n",
       "      <td>tournament</td>\n",
       "      <td>5.0</td>\n",
       "      <td>True</td>\n",
       "      <td>500</td>\n",
       "      <td>0.9</td>\n",
       "      <td>0.2</td>\n",
       "      <td>75410.00</td>\n",
       "      <td>2447.50</td>\n",
       "      <td>397.47</td>\n",
       "      <td>13.52</td>\n",
       "      <td>[73700.0, 73100.0, 73800.0, 74100.0, 75100.0, ...</td>\n",
       "    </tr>\n",
       "    <tr>\n",
       "      <th>695</th>\n",
       "      <td>50</td>\n",
       "      <td>swap_mutation</td>\n",
       "      <td>classic_order_crossover</td>\n",
       "      <td>tournament</td>\n",
       "      <td>7.0</td>\n",
       "      <td>False</td>\n",
       "      <td>500</td>\n",
       "      <td>0.9</td>\n",
       "      <td>0.2</td>\n",
       "      <td>75006.67</td>\n",
       "      <td>2439.12</td>\n",
       "      <td>402.50</td>\n",
       "      <td>15.34</td>\n",
       "      <td>[74600.0, 76900.0, 72700.0, 78000.0, 76800.0, ...</td>\n",
       "    </tr>\n",
       "    <tr>\n",
       "      <th>688</th>\n",
       "      <td>50</td>\n",
       "      <td>swap_mutation</td>\n",
       "      <td>classic_order_crossover</td>\n",
       "      <td>tournament</td>\n",
       "      <td>5.0</td>\n",
       "      <td>False</td>\n",
       "      <td>500</td>\n",
       "      <td>0.8</td>\n",
       "      <td>0.2</td>\n",
       "      <td>74993.33</td>\n",
       "      <td>2159.31</td>\n",
       "      <td>417.27</td>\n",
       "      <td>11.53</td>\n",
       "      <td>[75200.0, 73700.0, 69700.0, 75100.0, 77800.0, ...</td>\n",
       "    </tr>\n",
       "  </tbody>\n",
       "</table>\n",
       "</div>"
      ],
      "text/plain": [
       "     pop_size       mutation                crossover   selection  \\\n",
       "682        50  swap_mutation  classic_order_crossover  tournament   \n",
       "695        50  swap_mutation  classic_order_crossover  tournament   \n",
       "688        50  swap_mutation  classic_order_crossover  tournament   \n",
       "\n",
       "     selection_param  elitism  max_gen  xo_prob  mut_prob  avg_fitness  \\\n",
       "682              5.0     True      500      0.9       0.2     75410.00   \n",
       "695              7.0    False      500      0.9       0.2     75006.67   \n",
       "688              5.0    False      500      0.8       0.2     74993.33   \n",
       "\n",
       "     std_fitness  avg_conv_gen  avg_conv_time  \\\n",
       "682      2447.50        397.47          13.52   \n",
       "695      2439.12        402.50          15.34   \n",
       "688      2159.31        417.27          11.53   \n",
       "\n",
       "                                        fitness_scores  \n",
       "682  [73700.0, 73100.0, 73800.0, 74100.0, 75100.0, ...  \n",
       "695  [74600.0, 76900.0, 72700.0, 78000.0, 76800.0, ...  \n",
       "688  [75200.0, 73700.0, 69700.0, 75100.0, 77800.0, ...  "
      ]
     },
     "execution_count": 148,
     "metadata": {},
     "output_type": "execute_result"
    }
   ],
   "source": [
    "top_n = results.sort_values(by=\"avg_fitness\", ascending=False).head(n)\n",
    "top_n"
   ]
  },
  {
   "cell_type": "code",
   "execution_count": 133,
   "id": "2b400847",
   "metadata": {},
   "outputs": [],
   "source": [
    "# # Adicionar plot para average fitness\n",
    "# plt.figure(figsize=(12, 6))\n",
    "# plt.bar(range(len(top_n)), top_n[\"avg_fitness\"])\n",
    "# plt.xlabel(f\"Top {n} Configurations\")\n",
    "# plt.ylabel(\"Average Fitness\")\n",
    "# plt.title(f\"Top {n} Configurations by Average Fitness\")\n",
    "\n",
    "# plt.ylim(bottom=74000)\n",
    "\n",
    "# plt.xticks(ticks=range(len(top_n)), labels=range(1, len(top_n) + 1))\n",
    "# plt.tight_layout()\n",
    "# plt.show()"
   ]
  },
  {
   "cell_type": "markdown",
   "id": "3e42185e",
   "metadata": {},
   "source": [
    "# 2. Normality test"
   ]
  },
  {
   "cell_type": "markdown",
   "id": "95b0fe6d",
   "metadata": {},
   "source": [
    "> We want to check if the fitness scores over different runs (or other performance metrics such as convergence rate or number of generations to optimal solution) follow a normal distribution. So we can decide on using parametic or non parametic tests for comparison.\n",
    "\n",
    "> We will use shapiro -wilk test as it's suitable for n<50."
   ]
  },
  {
   "cell_type": "code",
   "execution_count": null,
   "id": "ee078542",
   "metadata": {},
   "outputs": [
    {
     "name": "stdout",
     "output_type": "stream",
     "text": [
      "Configuration 1: Shapiro-Wilk p-value = 0.1986\n",
      "Fitness scores are normally distributed.\n",
      "--------------------------------------------------\n",
      "Configuration 2: Shapiro-Wilk p-value = 0.9008\n",
      "Fitness scores are normally distributed.\n",
      "--------------------------------------------------\n"
     ]
    }
   ],
   "source": [
    "for i in range(len(top_n)):\n",
    "    scores_str = top_n['fitness_scores'].iloc[i]\n",
    "    scores = json.loads(scores_str)\n",
    "    \n",
    "    stat, p_value = shapiro(scores)\n",
    "    \n",
    "    print(f\"Configuration {i+1}: Shapiro-Wilk p-value = {p_value:.4f}\")\n",
    "    \n",
    "    if p_value < 0.05:\n",
    "        print(\"Fitness scores are NOT normally distributed.\")\n",
    "    else:\n",
    "        print(\"Fitness scores are normally distributed.\")\n",
    "    print(50*'-')"
   ]
  },
  {
   "cell_type": "code",
   "execution_count": 134,
   "id": "8812545c",
   "metadata": {},
   "outputs": [],
   "source": [
    "# # Boxplot para distribuição mas também adicionar gráfico para os vários valores nos vários runs\n",
    "# fitness_data = []\n",
    "# for i in range(len(top_n)):\n",
    "#     scores = json.loads(top_n['fitness_scores'].iloc[i])\n",
    "#     for s in scores:\n",
    "#         fitness_data.append({'Configuration': f\"{i+1}\", 'Fitness Score': s})\n",
    "\n",
    "# df_plot = pd.DataFrame(fitness_data)\n",
    "\n",
    "\n",
    "# plt.figure(figsize=(10, 6))\n",
    "# sns.boxplot(data=df_plot, x='Configuration', y='Fitness Score')\n",
    "\n",
    "# plt.title(f\"Fitness Score Distribution per Configuration (Top {n})\")\n",
    "# plt.xlabel(\"Configuration Index\")\n",
    "# plt.ylabel(\"Fitness Score\")\n",
    "# plt.legend()\n",
    "# plt.tight_layout()\n",
    "# plt.show()\n"
   ]
  },
  {
   "cell_type": "markdown",
   "id": "a758d1cc",
   "metadata": {},
   "source": [
    "|       |2 groups|>2 groups|\n",
    "|-------|--------|---------|\n",
    "|Normal|student's t|ANOVA|\n",
    "|Not normal|wilcoxon|kruskal-wallis\n"
   ]
  },
  {
   "cell_type": "markdown",
   "id": "82d5020a",
   "metadata": {},
   "source": [
    "# 3. Parametric test"
   ]
  },
  {
   "cell_type": "markdown",
   "id": "4425398b",
   "metadata": {},
   "source": [
    "## 3.1 Two groups: Student's t test"
   ]
  },
  {
   "cell_type": "markdown",
   "id": "041368b6",
   "metadata": {},
   "source": [
    "> Use Student's t test to determine if there is a significant different between the means of 2 groups.\n",
    "\n",
    "> H0: The average fitness value is equal.\n",
    "\n",
    "> Alternative: the average fitness (or other metric) is not equal."
   ]
  },
  {
   "cell_type": "code",
   "execution_count": 139,
   "id": "aca00c71",
   "metadata": {},
   "outputs": [],
   "source": [
    "g1 = top_n['fitness_scores'].iloc[0]\n",
    "g2 = top_n['fitness_scores'].iloc[1]\n",
    "\n",
    "g1,g2 = json.loads(g1),json.loads(g2)"
   ]
  },
  {
   "cell_type": "code",
   "execution_count": null,
   "id": "47b7add1",
   "metadata": {},
   "outputs": [
    {
     "name": "stdout",
     "output_type": "stream",
     "text": [
      "t-statistic: 0.6285931447867408\n",
      "p-value: 0.5320832107591179\n",
      "Fail to reject H0: There is no significant difference between the groups.\n"
     ]
    }
   ],
   "source": [
    "t_stat, p_value = stats.ttest_ind(g1,g2)\n",
    "\n",
    "print(\"t-statistic:\", t_stat)\n",
    "print(\"p-value:\", p_value)\n",
    "\n",
    "if p_value < 0.05:\n",
    "    print(\"Reject H0: There is a significant difference between the groups.\")\n",
    "else:\n",
    "    print(\"Fail to reject H0: There is no significant difference between the groups.\")\n"
   ]
  },
  {
   "cell_type": "markdown",
   "id": "3b7edb48",
   "metadata": {},
   "source": [
    "## 3.2 More than two groups: ANOVA"
   ]
  },
  {
   "cell_type": "markdown",
   "id": "b5d53d7a",
   "metadata": {},
   "source": []
  },
  {
   "cell_type": "markdown",
   "id": "4d2ef436",
   "metadata": {},
   "source": [
    "> https://www.geeksforgeeks.org/how-to-perform-a-one-way-anova-in-python/"
   ]
  },
  {
   "cell_type": "code",
   "execution_count": null,
   "id": "e1d81892",
   "metadata": {},
   "outputs": [],
   "source": [
    "all_scores = [json.loads(top_n['fitness_scores'].iloc[i]) for i in range(len(top_n))]"
   ]
  },
  {
   "cell_type": "code",
   "execution_count": 158,
   "id": "843e0019",
   "metadata": {},
   "outputs": [
    {
     "name": "stdout",
     "output_type": "stream",
     "text": [
      "F-statistic: 0.29386364412094024\n",
      "p-value: 0.7461150291995835\n",
      "Fail to reject the H0: no difference between groups.\n"
     ]
    }
   ],
   "source": [
    "f_stat, p_value = stats.f_oneway(*all_scores)\n",
    "\n",
    "print(\"F-statistic:\", f_stat)\n",
    "print(\"p-value:\", p_value)\n",
    "\n",
    "if p_value < 0.05:\n",
    "    print(\"Reject the null H0\")\n",
    "else:\n",
    "    print(\"Fail to reject the H0: no difference between groups.\")\n"
   ]
  },
  {
   "cell_type": "markdown",
   "id": "cd641ce0",
   "metadata": {},
   "source": [
    "# 4. Non-parametric tests"
   ]
  },
  {
   "cell_type": "markdown",
   "id": "ec00cbca",
   "metadata": {},
   "source": [
    "## 4.1 Two grupos: Wicoxon rank-sum test"
   ]
  },
  {
   "cell_type": "code",
   "execution_count": 145,
   "id": "0ebac8ec",
   "metadata": {},
   "outputs": [],
   "source": [
    "g1 = top_n['fitness_scores'].iloc[0]\n",
    "g2 = top_n['fitness_scores'].iloc[1]\n",
    "\n",
    "g1,g2 = json.loads(g1),json.loads(g2)"
   ]
  },
  {
   "cell_type": "code",
   "execution_count": null,
   "id": "e0f23964",
   "metadata": {},
   "outputs": [
    {
     "name": "stdout",
     "output_type": "stream",
     "text": [
      "Statistic: 490.0\n",
      "p-value: 0.5590557601090498\n",
      "Fail to reject the H0: no significant difference.\n"
     ]
    }
   ],
   "source": [
    "stat, p_value = mannwhitneyu(g1, g2, alternative='two-sided')\n",
    "\n",
    "print(\"Statistic:\", stat)\n",
    "print(\"p-value:\", p_value)\n",
    "\n",
    "if p_value < 0.05:\n",
    "    print(\"Reject the H0: groups differ significantly.\")\n",
    "else:\n",
    "    print(\"Fail to reject the H0: no significant difference.\")\n"
   ]
  },
  {
   "cell_type": "markdown",
   "id": "87a3d4ef",
   "metadata": {},
   "source": [
    "## 4.2 + Two groups: Kruskal-Wallis"
   ]
  },
  {
   "cell_type": "markdown",
   "id": "8385c52c",
   "metadata": {},
   "source": [
    "> https://docs.scipy.org/doc/scipy/reference/generated/scipy.stats.kruskal.html\n",
    "\n",
    "> use when comparing more than two groups, and can't assume normality. Groups are independent - which they are since it's different GA configurations."
   ]
  },
  {
   "cell_type": "code",
   "execution_count": 161,
   "id": "f3eced19",
   "metadata": {},
   "outputs": [
    {
     "name": "stdout",
     "output_type": "stream",
     "text": [
      "Kruskal-Wallis H-test statistic: 0.4925510509397748\n",
      "P-value: 0.7817068151138469\n",
      "Fail to reject H0: No signficant differences.\n"
     ]
    }
   ],
   "source": [
    "all_scores = [json.loads(top_n['fitness_scores'].iloc[i]) for i in range(len(top_n))]\n",
    "\n",
    "stat, p_value = kruskal(*all_scores)\n",
    "\n",
    "print(f\"Kruskal-Wallis H-test statistic: {stat}\")\n",
    "print(f\"P-value: {p_value}\")\n",
    "\n",
    "if p_value < 0.05:\n",
    "    print(\"Reject H0: At least one configuration has significantly different fitness scores.\")\n",
    "else:\n",
    "    print(\"Fail to reject H0: No signficant differences.\")"
   ]
  },
  {
   "cell_type": "markdown",
   "id": "518f7aad",
   "metadata": {},
   "source": [
    "> This is supposed to only tell us if there's any configuration that has significantly different fitness scores.\n",
    "\n",
    "> In the case where there aren't significant differences then stick with the configuration with the highest average fitness. \n",
    "\n",
    "> H0: todos grupos têm a mesma distribuição\n",
    "> Se rejeitar h0 então há pelo menos 1 que difere significativamente, mas não nos diz qual. Para isso precisamos de usar o Dunn's test para perceber que grupos é que são signficativamente diferentes uns dos outros. Há diferença significative se <0.05"
   ]
  },
  {
   "cell_type": "markdown",
   "id": "d4ab72e7",
   "metadata": {},
   "source": [
    "### 4.2.1 Post-hoc test: Dunn"
   ]
  },
  {
   "cell_type": "markdown",
   "id": "364a4027",
   "metadata": {},
   "source": [
    "https://journals.sagepub.com/doi/pdf/10.1177/1536867X1501500117"
   ]
  },
  {
   "cell_type": "code",
   "execution_count": 162,
   "id": "a6c27a20",
   "metadata": {},
   "outputs": [
    {
     "name": "stdout",
     "output_type": "stream",
     "text": [
      "          1         2         3\n",
      "1  1.000000  0.503021  0.605492\n",
      "2  0.503021  1.000000  0.878220\n",
      "3  0.605492  0.878220  1.000000\n"
     ]
    }
   ],
   "source": [
    "data = []\n",
    "for i in range(len(top_n)):\n",
    "    scores = json.loads(top_n['fitness_scores'].iloc[i])\n",
    "    for s in scores:\n",
    "        data.append({'Configuration': i+1, 'Score': s})\n",
    "\n",
    "df = pd.DataFrame(data)\n",
    "\n",
    "# Dunn’s post-hoc test with Bonferroni correction\n",
    "posthoc = sp.posthoc_dunn(df, val_col='Score', group_col='Configuration')\n",
    "print(posthoc)\n"
   ]
  },
  {
   "cell_type": "code",
   "execution_count": 168,
   "id": "75aecc63",
   "metadata": {},
   "outputs": [
    {
     "data": {
      "image/png": "[encoded data removed]",
      "text/plain": [
       "<Figure size 1000x700 with 2 Axes>"
      ]
     },
     "metadata": {},
     "output_type": "display_data"
    }
   ],
   "source": [
    "mask = np.triu(np.ones_like(posthoc, dtype=bool))\n",
    "\n",
    "posthoc_filtered = posthoc.copy()\n",
    "\n",
    "plt.figure(figsize=(10, 7))\n",
    "\n",
    "sns.heatmap(posthoc_filtered, \n",
    "            mask=mask, \n",
    "            cmap=\"GnBu\", \n",
    "            annot=True, \n",
    "            fmt=\".2f\", \n",
    "            cbar_kws={'label': 'p-value'},\n",
    "            linewidths=0.5, \n",
    "            linecolor='gray',\n",
    "            cbar=True, \n",
    "            square=True)\n",
    "\n",
    "plt.grid(False)\n",
    "\n",
    "plt.title(\"Dunn's Post-Hoc Test (Lower Triangle)\", fontsize=14)\n",
    "plt.xlabel(\"Configuration\")\n",
    "plt.ylabel(\"Configuration\")\n",
    "plt.tight_layout()\n",
    "plt.show()\n"
   ]
  },
  {
   "cell_type": "markdown",
   "id": "bd292511",
   "metadata": {},
   "source": [
    "# 5. Success Rate"
   ]
  },
  {
   "cell_type": "code",
   "execution_count": null,
   "id": "feff2c7c",
   "metadata": {},
   "outputs": [],
   "source": []
  }
 ],
 "metadata": {
  "kernelspec": {
   "display_name": "Python 3",
   "language": "python",
   "name": "python3"
  },
  "language_info": {
   "codemirror_mode": {
    "name": "ipython",
    "version": 3
   },
   "file_extension": ".py",
   "mimetype": "text/x-python",
   "name": "python",
   "nbconvert_exporter": "python",
   "pygments_lexer": "ipython3",
   "version": "3.12.10"
  }
 },
 "nbformat": 4,
 "nbformat_minor": 5
}

{
 "cells": [
  {
   "cell_type": "markdown",
   "id": "4a9479b8",
   "metadata": {},
   "source": [
    "# Running GA"
   ]
  },
  {
   "cell_type": "code",
   "execution_count": 1,
   "id": "dad222be",
   "metadata": {},
   "outputs": [],
   "source": [
    "import pandas as pd\n",
    "import numpy as np\n",
    "import matplotlib.pyplot as plt\n",
    "import random\n",
    "from copy import deepcopy\n",
    "from functools import partial\n",
    "import os\n",
    "from itertools import product\n",
    "import json\n"
   ]
  },
  {
   "cell_type": "code",
   "execution_count": 2,
   "id": "a29b3db1",
   "metadata": {},
   "outputs": [],
   "source": [
    "from crossover import *\n",
    "from selection_algos import *\n",
    "from mutations import *\n",
    "from algorithms import *\n",
    "from problems_solutions import *\n",
    "from utils import *\n"
   ]
  },
  {
   "cell_type": "code",
   "execution_count": 3,
   "id": "26810fa5",
   "metadata": {},
   "outputs": [
    {
     "data": {
      "text/plain": [
       "array([[   0, 5000,    0, ...,    0,    0,    0],\n",
       "       [5000,    0,  700, ...,    0,    0,    0],\n",
       "       [   0,  700,    0, ...,    0,    0,    0],\n",
       "       ...,\n",
       "       [   0,    0,    0, ...,    0,  700,  700],\n",
       "       [   0,    0,    0, ...,  700,    0,  900],\n",
       "       [   0,    0,    0, ...,  700,  900,    0]], shape=(64, 64))"
      ]
     },
     "execution_count": 3,
     "metadata": {},
     "output_type": "execute_result"
    }
   ],
   "source": [
    "scores = pd.read_csv('Wedding/seating_data(in).csv', index_col=0)\n",
    "scores_array = scores.to_numpy()\n",
    "scores_array"
   ]
  },
  {
   "cell_type": "markdown",
   "id": "dd6f7857",
   "metadata": {},
   "source": [
    "# Grid search "
   ]
  },
  {
   "cell_type": "code",
   "execution_count": 4,
   "id": "d0d4b660",
   "metadata": {},
   "outputs": [],
   "source": [
    "# Parameter grid\n",
    "pop_sizes = [10, 50, 100]\n",
    "mutation_ops = [swap_mutation, insert_mutation, inversion_mutation, scramble_mutation]\n",
    "crossover_ops = [classic_order_crossover, cycle_crossover, partially_mapped_crossover]\n",
    "selection_names = [\"tournament\", \"fitness\", \"rank\"]\n",
    "max_gens = [500]\n",
    "elitisms = [True, False] # False with very low results\n",
    "xo_probs = [0.8, 0.9]\n",
    "mut_probs = [0.1, 0.2]\n",
    "tourn_ks = [3, 5, 7]\n",
    "# tourn_replacement = [True, False] \n",
    "rank_ls = [1e-2, 0.1, 1] # 1e-2 similar to linear \n"
   ]
  },
  {
   "cell_type": "markdown",
   "id": "2e749faa",
   "metadata": {},
   "source": [
    "> We will load the result from the CSV file to store the tested configurations and save those in a set of tuples (tested_configs). "
   ]
  },
  {
   "cell_type": "code",
   "execution_count": 5,
   "id": "9e512dd4",
   "metadata": {},
   "outputs": [],
   "source": [
    "results_file = \"ga_results.csv\""
   ]
  },
  {
   "cell_type": "code",
   "execution_count": 6,
   "id": "b27fcbcc",
   "metadata": {},
   "outputs": [],
   "source": [
    "# Load or initialize the results dataframe\n",
    "if os.path.exists(results_file):\n",
    "    df_existing = pd.read_csv(results_file)\n",
    "    tested_configs = set(config_to_key(row) for _, row in df_existing.iterrows())\n",
    "else:\n",
    "    df_existing = pd.DataFrame()\n",
    "    tested_configs = set()"
   ]
  },
  {
   "cell_type": "markdown",
   "id": "25323a0f",
   "metadata": {},
   "source": [
    "> In the grid search loop, we will iterate over all combinations of the parameters. <br>\n",
    "Each combination of parameters will be ran 30 times to obtain a large enough sample size to compare the results. <br> \n",
    "The results will be saved in a CSV file, so that we can load it later and append new results.<br>\n",
    "If combination of parameters has already been tested, we will skip it, allowing efficient exploration of the hyperparameter space."
   ]
  },
  {
   "cell_type": "code",
   "execution_count": 7,
   "id": "b2824078",
   "metadata": {},
   "outputs": [
    {
     "name": "stdout",
     "output_type": "stream",
     "text": [
      "Running GA with config: (10, 'swap_mutation', 'classic_order_crossover', 'tournament', 3, True, 500, 0.8, 0.1)\n",
      "Avg fitness: 58443.3, Std: 3319.2 in 472.6 generations, 2.4 seconds\n",
      "Running GA with config: (10, 'swap_mutation', 'classic_order_crossover', 'tournament', 5, True, 500, 0.8, 0.1)\n"
     ]
    },
    {
     "ename": "KeyboardInterrupt",
     "evalue": "",
     "output_type": "error",
     "traceback": [
      "\u001b[1;31m---------------------------------------------------------------------------\u001b[0m",
      "\u001b[1;31mKeyboardInterrupt\u001b[0m                         Traceback (most recent call last)",
      "Cell \u001b[1;32mIn[7], line 55\u001b[0m\n\u001b[0;32m     46\u001b[0m \u001b[38;5;28;01mfor\u001b[39;00m _ \u001b[38;5;129;01min\u001b[39;00m \u001b[38;5;28mrange\u001b[39m(\u001b[38;5;241m30\u001b[39m):\n\u001b[0;32m     47\u001b[0m     population \u001b[38;5;241m=\u001b[39m [\n\u001b[0;32m     48\u001b[0m         Wedding_GA_Solution(\n\u001b[0;32m     49\u001b[0m             scores\u001b[38;5;241m=\u001b[39mscores_array,\n\u001b[1;32m   (...)\u001b[0m\n\u001b[0;32m     52\u001b[0m         ) \u001b[38;5;28;01mfor\u001b[39;00m _ \u001b[38;5;129;01min\u001b[39;00m \u001b[38;5;28mrange\u001b[39m(pop_size)\n\u001b[0;32m     53\u001b[0m     ]\n\u001b[1;32m---> 55\u001b[0m     best_sol, _, conv_gen, conv_time \u001b[38;5;241m=\u001b[39m \u001b[43mgenetic_algorithm\u001b[49m\u001b[43m(\u001b[49m\n\u001b[0;32m     56\u001b[0m \u001b[43m        \u001b[49m\u001b[43minitial_population\u001b[49m\u001b[38;5;241;43m=\u001b[39;49m\u001b[43mdeepcopy\u001b[49m\u001b[43m(\u001b[49m\u001b[43mpopulation\u001b[49m\u001b[43m)\u001b[49m\u001b[43m,\u001b[49m\n\u001b[0;32m     57\u001b[0m \u001b[43m        \u001b[49m\u001b[43mmax_gen\u001b[49m\u001b[38;5;241;43m=\u001b[39;49m\u001b[43mmax_gen\u001b[49m\u001b[43m,\u001b[49m\n\u001b[0;32m     58\u001b[0m \u001b[43m        \u001b[49m\u001b[43mselection_algorithm\u001b[49m\u001b[38;5;241;43m=\u001b[39;49m\u001b[43mselection_algorithm\u001b[49m\u001b[43m,\u001b[49m\n\u001b[0;32m     59\u001b[0m \u001b[43m        \u001b[49m\u001b[43mmaximization\u001b[49m\u001b[38;5;241;43m=\u001b[39;49m\u001b[38;5;28;43;01mTrue\u001b[39;49;00m\u001b[43m,\u001b[49m\n\u001b[0;32m     60\u001b[0m \u001b[43m        \u001b[49m\u001b[43mxo_prob\u001b[49m\u001b[38;5;241;43m=\u001b[39;49m\u001b[43mxo_prob\u001b[49m\u001b[43m,\u001b[49m\n\u001b[0;32m     61\u001b[0m \u001b[43m        \u001b[49m\u001b[43mmut_prob\u001b[49m\u001b[38;5;241;43m=\u001b[39;49m\u001b[43mmut_prob\u001b[49m\u001b[43m,\u001b[49m\n\u001b[0;32m     62\u001b[0m \u001b[43m        \u001b[49m\u001b[43melitism\u001b[49m\u001b[38;5;241;43m=\u001b[39;49m\u001b[43melitism\u001b[49m\u001b[43m,\u001b[49m\n\u001b[0;32m     63\u001b[0m \u001b[43m        \u001b[49m\u001b[43mverbose\u001b[49m\u001b[38;5;241;43m=\u001b[39;49m\u001b[38;5;28;43;01mFalse\u001b[39;49;00m\n\u001b[0;32m     64\u001b[0m \u001b[43m    \u001b[49m\u001b[43m)\u001b[49m\n\u001b[0;32m     66\u001b[0m     fitness_scores\u001b[38;5;241m.\u001b[39mappend(best_sol\u001b[38;5;241m.\u001b[39mfitness())\n\u001b[0;32m     67\u001b[0m     conv_gens\u001b[38;5;241m.\u001b[39mappend(conv_gen)\n",
      "File \u001b[1;32mc:\\Users\\gaspa\\OneDrive\\Ambiente de Trabalho\\DS-NOVA\\2_semestre\\Computation Inteligence for Otimization\\Projeto\\algorithms.py:72\u001b[0m, in \u001b[0;36mgenetic_algorithm\u001b[1;34m(initial_population, max_gen, selection_algorithm, maximization, xo_prob, mut_prob, elitism, verbose)\u001b[0m\n\u001b[0;32m     69\u001b[0m \u001b[38;5;28;01mwhile\u001b[39;00m \u001b[38;5;28mlen\u001b[39m(new_population) \u001b[38;5;241m<\u001b[39m \u001b[38;5;28mlen\u001b[39m(population):\n\u001b[0;32m     70\u001b[0m     \u001b[38;5;66;03m# 2.3.1. Choose 2 individuals from P using a selection algorithm\u001b[39;00m\n\u001b[0;32m     71\u001b[0m     first_ind \u001b[38;5;241m=\u001b[39m selection_algorithm(population\u001b[38;5;241m=\u001b[39mpopulation, maximization\u001b[38;5;241m=\u001b[39mmaximization)\n\u001b[1;32m---> 72\u001b[0m     second_ind \u001b[38;5;241m=\u001b[39m \u001b[43mselection_algorithm\u001b[49m\u001b[43m(\u001b[49m\u001b[43mpopulation\u001b[49m\u001b[38;5;241;43m=\u001b[39;49m\u001b[43mpopulation\u001b[49m\u001b[43m,\u001b[49m\u001b[43m \u001b[49m\u001b[43mmaximization\u001b[49m\u001b[38;5;241;43m=\u001b[39;49m\u001b[43mmaximization\u001b[49m\u001b[43m)\u001b[49m\n\u001b[0;32m     74\u001b[0m     \u001b[38;5;66;03m# 2.3.2. Choose an operator between crossover and replication\u001b[39;00m\n\u001b[0;32m     75\u001b[0m     \u001b[38;5;66;03m# 2.3.3. Apply the operator to generate the offspring\u001b[39;00m\n\u001b[0;32m     76\u001b[0m     \u001b[38;5;28;01mif\u001b[39;00m random\u001b[38;5;241m.\u001b[39mrandom() \u001b[38;5;241m<\u001b[39m xo_prob:\n",
      "File \u001b[1;32mc:\\Users\\gaspa\\OneDrive\\Ambiente de Trabalho\\DS-NOVA\\2_semestre\\Computation Inteligence for Otimization\\Projeto\\selection_algos.py:92\u001b[0m, in \u001b[0;36mtournament_selection\u001b[1;34m(population, k, maximization)\u001b[0m\n\u001b[0;32m     89\u001b[0m \u001b[38;5;28;01melse\u001b[39;00m:\n\u001b[0;32m     90\u001b[0m     winner \u001b[38;5;241m=\u001b[39m \u001b[38;5;28mmin\u001b[39m(tournament_group, key\u001b[38;5;241m=\u001b[39m\u001b[38;5;28;01mlambda\u001b[39;00m ind: ind\u001b[38;5;241m.\u001b[39mfitness())\n\u001b[1;32m---> 92\u001b[0m \u001b[38;5;28;01mreturn\u001b[39;00m \u001b[43mdeepcopy\u001b[49m\u001b[43m(\u001b[49m\u001b[43mwinner\u001b[49m\u001b[43m)\u001b[49m\n",
      "File \u001b[1;32mc:\\Users\\gaspa\\anaconda3\\envs\\CIFO\\Lib\\copy.py:162\u001b[0m, in \u001b[0;36mdeepcopy\u001b[1;34m(x, memo, _nil)\u001b[0m\n\u001b[0;32m    160\u001b[0m                 y \u001b[38;5;241m=\u001b[39m x\n\u001b[0;32m    161\u001b[0m             \u001b[38;5;28;01melse\u001b[39;00m:\n\u001b[1;32m--> 162\u001b[0m                 y \u001b[38;5;241m=\u001b[39m \u001b[43m_reconstruct\u001b[49m\u001b[43m(\u001b[49m\u001b[43mx\u001b[49m\u001b[43m,\u001b[49m\u001b[43m \u001b[49m\u001b[43mmemo\u001b[49m\u001b[43m,\u001b[49m\u001b[43m \u001b[49m\u001b[38;5;241;43m*\u001b[39;49m\u001b[43mrv\u001b[49m\u001b[43m)\u001b[49m\n\u001b[0;32m    164\u001b[0m \u001b[38;5;66;03m# If is its own copy, don't memoize.\u001b[39;00m\n\u001b[0;32m    165\u001b[0m \u001b[38;5;28;01mif\u001b[39;00m y \u001b[38;5;129;01mis\u001b[39;00m \u001b[38;5;129;01mnot\u001b[39;00m x:\n",
      "File \u001b[1;32mc:\\Users\\gaspa\\anaconda3\\envs\\CIFO\\Lib\\copy.py:259\u001b[0m, in \u001b[0;36m_reconstruct\u001b[1;34m(x, memo, func, args, state, listiter, dictiter, deepcopy)\u001b[0m\n\u001b[0;32m    257\u001b[0m \u001b[38;5;28;01mif\u001b[39;00m state \u001b[38;5;129;01mis\u001b[39;00m \u001b[38;5;129;01mnot\u001b[39;00m \u001b[38;5;28;01mNone\u001b[39;00m:\n\u001b[0;32m    258\u001b[0m     \u001b[38;5;28;01mif\u001b[39;00m deep:\n\u001b[1;32m--> 259\u001b[0m         state \u001b[38;5;241m=\u001b[39m \u001b[43mdeepcopy\u001b[49m\u001b[43m(\u001b[49m\u001b[43mstate\u001b[49m\u001b[43m,\u001b[49m\u001b[43m \u001b[49m\u001b[43mmemo\u001b[49m\u001b[43m)\u001b[49m\n\u001b[0;32m    260\u001b[0m     \u001b[38;5;28;01mif\u001b[39;00m \u001b[38;5;28mhasattr\u001b[39m(y, \u001b[38;5;124m'\u001b[39m\u001b[38;5;124m__setstate__\u001b[39m\u001b[38;5;124m'\u001b[39m):\n\u001b[0;32m    261\u001b[0m         y\u001b[38;5;241m.\u001b[39m__setstate__(state)\n",
      "File \u001b[1;32mc:\\Users\\gaspa\\anaconda3\\envs\\CIFO\\Lib\\copy.py:136\u001b[0m, in \u001b[0;36mdeepcopy\u001b[1;34m(x, memo, _nil)\u001b[0m\n\u001b[0;32m    134\u001b[0m copier \u001b[38;5;241m=\u001b[39m _deepcopy_dispatch\u001b[38;5;241m.\u001b[39mget(\u001b[38;5;28mcls\u001b[39m)\n\u001b[0;32m    135\u001b[0m \u001b[38;5;28;01mif\u001b[39;00m copier \u001b[38;5;129;01mis\u001b[39;00m \u001b[38;5;129;01mnot\u001b[39;00m \u001b[38;5;28;01mNone\u001b[39;00m:\n\u001b[1;32m--> 136\u001b[0m     y \u001b[38;5;241m=\u001b[39m \u001b[43mcopier\u001b[49m\u001b[43m(\u001b[49m\u001b[43mx\u001b[49m\u001b[43m,\u001b[49m\u001b[43m \u001b[49m\u001b[43mmemo\u001b[49m\u001b[43m)\u001b[49m\n\u001b[0;32m    137\u001b[0m \u001b[38;5;28;01melse\u001b[39;00m:\n\u001b[0;32m    138\u001b[0m     \u001b[38;5;28;01mif\u001b[39;00m \u001b[38;5;28missubclass\u001b[39m(\u001b[38;5;28mcls\u001b[39m, \u001b[38;5;28mtype\u001b[39m):\n",
      "File \u001b[1;32mc:\\Users\\gaspa\\anaconda3\\envs\\CIFO\\Lib\\copy.py:221\u001b[0m, in \u001b[0;36m_deepcopy_dict\u001b[1;34m(x, memo, deepcopy)\u001b[0m\n\u001b[0;32m    219\u001b[0m memo[\u001b[38;5;28mid\u001b[39m(x)] \u001b[38;5;241m=\u001b[39m y\n\u001b[0;32m    220\u001b[0m \u001b[38;5;28;01mfor\u001b[39;00m key, value \u001b[38;5;129;01min\u001b[39;00m x\u001b[38;5;241m.\u001b[39mitems():\n\u001b[1;32m--> 221\u001b[0m     y[deepcopy(key, memo)] \u001b[38;5;241m=\u001b[39m \u001b[43mdeepcopy\u001b[49m\u001b[43m(\u001b[49m\u001b[43mvalue\u001b[49m\u001b[43m,\u001b[49m\u001b[43m \u001b[49m\u001b[43mmemo\u001b[49m\u001b[43m)\u001b[49m\n\u001b[0;32m    222\u001b[0m \u001b[38;5;28;01mreturn\u001b[39;00m y\n",
      "File \u001b[1;32mc:\\Users\\gaspa\\anaconda3\\envs\\CIFO\\Lib\\copy.py:143\u001b[0m, in \u001b[0;36mdeepcopy\u001b[1;34m(x, memo, _nil)\u001b[0m\n\u001b[0;32m    141\u001b[0m copier \u001b[38;5;241m=\u001b[39m \u001b[38;5;28mgetattr\u001b[39m(x, \u001b[38;5;124m\"\u001b[39m\u001b[38;5;124m__deepcopy__\u001b[39m\u001b[38;5;124m\"\u001b[39m, \u001b[38;5;28;01mNone\u001b[39;00m)\n\u001b[0;32m    142\u001b[0m \u001b[38;5;28;01mif\u001b[39;00m copier \u001b[38;5;129;01mis\u001b[39;00m \u001b[38;5;129;01mnot\u001b[39;00m \u001b[38;5;28;01mNone\u001b[39;00m:\n\u001b[1;32m--> 143\u001b[0m     y \u001b[38;5;241m=\u001b[39m \u001b[43mcopier\u001b[49m\u001b[43m(\u001b[49m\u001b[43mmemo\u001b[49m\u001b[43m)\u001b[49m\n\u001b[0;32m    144\u001b[0m \u001b[38;5;28;01melse\u001b[39;00m:\n\u001b[0;32m    145\u001b[0m     reductor \u001b[38;5;241m=\u001b[39m dispatch_table\u001b[38;5;241m.\u001b[39mget(\u001b[38;5;28mcls\u001b[39m)\n",
      "\u001b[1;31mKeyboardInterrupt\u001b[0m: "
     ]
    }
   ],
   "source": [
    "for pop_size, mutation_fn, crossover_fn, selection_name, max_gen, elitism, xo_prob, mut_prob in product(\n",
    "    pop_sizes, mutation_ops, crossover_ops, selection_names, max_gens, elitisms, xo_probs, mut_probs\n",
    "):\n",
    "\n",
    "    # Skip if incompatible selection and missing param\n",
    "    if selection_name == \"tournament\":\n",
    "        selection_configs = tourn_ks\n",
    "    elif selection_name == \"rank\":\n",
    "        selection_configs = rank_ls\n",
    "    else:\n",
    "        selection_configs = [None]  # fitness has no extra param\n",
    "\n",
    "    for sel_config in selection_configs:\n",
    "        # Create a tuple key for the current configurations \n",
    "        current_key = (\n",
    "            pop_size,\n",
    "            mutation_fn.__name__,\n",
    "            crossover_fn.__name__,\n",
    "            selection_name,\n",
    "            sel_config,\n",
    "            elitism,\n",
    "            max_gen,\n",
    "            round(xo_prob, 4),\n",
    "            round(mut_prob, 4)\n",
    "        )\n",
    "        \n",
    "        # If the current configuration has already been tested (in tested_configs), skip it\n",
    "        if current_key in tested_configs:\n",
    "            print(f\"Skipping already tested config: {current_key}\")\n",
    "            continue\n",
    "        \n",
    "        # Set selection algorithm hyperparameters\n",
    "        if selection_name == \"tournament\":\n",
    "            selection_algorithm = partial(tournament_selection, k=sel_config)\n",
    "        elif selection_name == \"fitness\":\n",
    "            selection_algorithm = fitness_proportionate_selection\n",
    "        else:  # rank\n",
    "            selection_algorithm = partial(rank_selection, function=\"exponential\", l=sel_config)\n",
    "\n",
    "        # Repeat GA run 30 times for each configuration\n",
    "        fitness_scores = []\n",
    "        conv_gens = []\n",
    "        conv_times = []\n",
    "        \n",
    "        print(f\"Running GA with config: {current_key}\")\n",
    "        for _ in range(30):\n",
    "            population = [\n",
    "                Wedding_GA_Solution(\n",
    "                    scores=scores_array,\n",
    "                    mutation_function=mutation_fn,\n",
    "                    crossover_function=crossover_fn\n",
    "                ) for _ in range(pop_size)\n",
    "            ]\n",
    "\n",
    "            best_sol, _, conv_gen, conv_time = genetic_algorithm(\n",
    "                initial_population=deepcopy(population),\n",
    "                max_gen=max_gen,\n",
    "                selection_algorithm=selection_algorithm,\n",
    "                maximization=True,\n",
    "                xo_prob=xo_prob,\n",
    "                mut_prob=mut_prob,\n",
    "                elitism=elitism,\n",
    "                verbose=False\n",
    "            )\n",
    "\n",
    "            fitness_scores.append(best_sol.fitness())\n",
    "            conv_gens.append(conv_gen)\n",
    "            conv_times.append(round(conv_time, 2))\n",
    "            \n",
    "        avg_fitness = round(np.mean(fitness_scores), 2)\n",
    "        std_fitness = round(np.std(fitness_scores),2)\n",
    "        \n",
    "        avg_conv_gen = round(np.mean(conv_gens),2)\n",
    "        avg_conv_time = round(np.mean(conv_times),2)\n",
    "        \n",
    "        print(f\"Avg fitness: {round(avg_fitness, 1)}, Std: {round(std_fitness,1)} in {avg_conv_gen} generations, {avg_conv_time} seconds\")\n",
    "        \n",
    "        df_new = pd.DataFrame([{\n",
    "            \"pop_size\": pop_size,\n",
    "            \"mutation\": mutation_fn.__name__,\n",
    "            \"crossover\": crossover_fn.__name__,\n",
    "            \"selection\": selection_name,\n",
    "            \"selection_param\": sel_config,\n",
    "            \"elitism\": elitism,\n",
    "            \"max_gen\": max_gen,\n",
    "            \"xo_prob\": round(xo_prob, 4),\n",
    "            \"mut_prob\": round(mut_prob, 4),\n",
    "            \"avg_fitness\": avg_fitness,\n",
    "            \"std_fitness\": std_fitness,\n",
    "            \"avg_conv_gen\": avg_conv_gen,\n",
    "            \"avg_conv_time\": avg_conv_time,\n",
    "            \"fitness_scores\": json.dumps([float(x) for x in fitness_scores]),\n",
    "        }])\n",
    "        \n",
    "        # Append to existing CSV (or write new one)\n",
    "        if os.path.exists(results_file) and not df_new.empty:\n",
    "            # mode = \"a\" = append\n",
    "            df_new.to_csv(results_file, mode='a', header=False, index=False) \n",
    "        elif not df_new.empty:\n",
    "            df_new.to_csv(results_file, index=False)\n",
    "        \n",
    "        tested_configs.add(current_key)\n",
    "        "
   ]
  },
  {
   "cell_type": "markdown",
   "id": "69fffcf8",
   "metadata": {},
   "source": []
  }
 ],
 "metadata": {
  "kernelspec": {
   "display_name": "CIFO",
   "language": "python",
   "name": "python3"
  },
  "language_info": {
   "codemirror_mode": {
    "name": "ipython",
    "version": 3
   },
   "file_extension": ".py",
   "mimetype": "text/x-python",
   "name": "python",
   "nbconvert_exporter": "python",
   "pygments_lexer": "ipython3",
   "version": "3.12.9"
  }
 },
 "nbformat": 4,
 "nbformat_minor": 5
}
